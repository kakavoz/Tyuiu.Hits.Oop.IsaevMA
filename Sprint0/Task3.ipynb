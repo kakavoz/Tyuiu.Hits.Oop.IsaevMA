{
 "cells": [
  {
   "cell_type": "markdown",
   "metadata": {},
   "source": [
    "<h1 style=\"color:DodgerBlue\">Индивидальный проект</h1>"
   ]
  },
  {
   "cell_type": "markdown",
   "metadata": {},
   "source": [
    "<h2 style=\"color:DodgerBlue\">Название проекта:</h2>\n",
    "Кинозал\n",
    "\n",
    "----\n",
    "\n",
    "### Вариант задания 6\n",
    "\n",
    "\n",
    "\n"
   ]
  },
  {
   "cell_type": "markdown",
   "metadata": {},
   "source": [
    "<h2 style=\"color:DodgerBlue\">Описание проекта:</h2>\n",
    "Создать базовый класс Movie в C#, который будет представлять информацию о\n",
    "фильмах. На основе этого класса разработать 2-3 производных класса,\n",
    "демонстрирующих принципы наследования и полиморфизма. В каждом из классов\n",
    "должны быть реализованы новые атрибуты и методы, а также переопределены\n",
    "некоторые методы базового класса для демонстрации полиморфизма.\n",
    "Требования к базовому классу Movie:\n",
    "• Атрибуты: Название (Title), Режиссер (Director), Год выпуска (ReleaseYear).\n",
    "• Методы:\n",
    "o GetInfo(): метод для получения информации о фильме в виде строки.\n",
    "o Watch(): метод для вывода сообщения о просмотре фильма.\n",
    "o Rate(): метод для оценки фильма.\n",
    "Требования к производным классам:\n",
    "1. Документальный фильм (Documentary): Должен содержать дополнительные\n",
    "атрибуты, такие как Тематика (Theme). Метод Watch() должен быть\n",
    "переопределен для добавления информации о тематике при просмотре\n",
    "документального фильма.\n",
    "2. Игровой фильм (FeatureFilm): Должен содержать дополнительные атрибуты,\n",
    "такие как Жанр (Genre). Метод Rate() должен быть переопределен для\n",
    "добавления логики оценки в зависимости от жанра.\n",
    "3. Анимационный фильм (AnimatedMovie) (если требуется третий класс):\n",
    "Должен содержать дополнительные атрибуты, такие как Студия анимации\n",
    "(AnimationStudio). Метод GetInfo() должен быть переопределен для\n",
    "включения информации о студии анимации в описании фильма.\n",
    "\n",
    "----\n",
    "\n",
    "\n"
   ]
  },
  {
   "cell_type": "markdown",
   "metadata": {},
   "source": [
    "<h2 style=\"color:DodgerBlue\">Реализация:</h2>\n",
    "\n",
    "----"
   ]
  },
  {
   "cell_type": "code",
   "execution_count": 2,
   "metadata": {
    "dotnet_interactive": {
     "language": "csharp"
    },
    "polyglot_notebook": {
     "kernelName": "csharp"
    }
   },
   "outputs": [],
   "source": [
    "\n",
    "public class Movie\n",
    "{\n",
    "    public string Title;\n",
    "    public string Director;\n",
    "    public int ReleaseYear;\n",
    "\n",
    "    public Movie(string title, string director, int releaseYear)\n",
    "    {\n",
    "        Title = title;\n",
    "        Director = director;\n",
    "        ReleaseYear = releaseYear;\n",
    "    }\n",
    "\n",
    "    public virtual string GetInfo()\n",
    "    {\n",
    "        return $\"Название: {Title}, Режиссер: {Director}, Год выпуска: {ReleaseYear}\";\n",
    "    }\n",
    "\n",
    "    public virtual void Watch()\n",
    "    {\n",
    "        Console.WriteLine($\"Смотрим фильм: {Title}\");\n",
    "    }\n",
    "\n",
    "    public virtual void Rate()\n",
    "    {\n",
    "        Console.WriteLine($\"Оцениваем фильм: {Title}\");\n",
    "    }\n",
    "}\n",
    "public class Documentary : Movie\n",
    "{\n",
    "    public string Theme\n",
    "\n",
    "    public Documentary(string title, string director, int releaseYear, string theme)\n",
    "        : base(title, director, releaseYear)\n",
    "    {\n",
    "        Theme = theme;\n",
    "    }\n",
    "\n",
    "    public override void Watch()\n",
    "    {\n",
    "        Console.WriteLine($\"Смотрим документационный фильм: {Title} на тему: {Theme}\");\n",
    "    }\n",
    "public class FeatureFilm : Movie\n",
    "{\n",
    "    public string Genre \n",
    "\n",
    "    public FeatureFilm(string title, string director, int releaseYear, string genre)\n",
    "        : base(title, director, releaseYear)\n",
    "    {\n",
    "        Genre = genre;\n",
    "    }\n",
    "    public override void Rate()\n",
    "    {\n",
    "        Console.WriteLine($\"Оцениваем игровой фильм: {Title} в жанре: {Genre}\");\n",
    "    }\n",
    "}\n",
    "public class AnimatedMovie : Movie\n",
    "{\n",
    "    public string AnimationStudio \n",
    "\n",
    "    public AnimatedMovie(string title, string director, int releaseYear, string animationStudio)\n",
    "        : base(title, director, releaseYear)\n",
    "    {\n",
    "        AnimationStudio = animationStudio;\n",
    "    }\n",
    "\n",
    "    public override string GetInfo()\n",
    "    {\n",
    "        return base.GetInfo() + $\", Анимационная студия: {AnimationStudio}\";\n",
    "    }\n",
    "}\n"
   ]
  }
 ],
 "metadata": {
  "kernelspec": {
   "display_name": ".NET (C#)",
   "language": "C#",
   "name": ".net-csharp"
  },
  "polyglot_notebook": {
   "kernelInfo": {
    "defaultKernelName": "csharp",
    "items": [
     {
      "aliases": [],
      "languageName": "csharp",
      "name": "csharp"
     }
    ]
   }
  }
 },
 "nbformat": 4,
 "nbformat_minor": 2
}
